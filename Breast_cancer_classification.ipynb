{
  "nbformat": 4,
  "nbformat_minor": 0,
  "metadata": {
    "colab": {
      "provenance": [],
      "mount_file_id": "1ZriQQXd7NfnD1tW4jjUluYfMtR90MkRv",
      "authorship_tag": "ABX9TyNX1P+/NrvHhMLoxQN1Iok2",
      "include_colab_link": true
    },
    "kernelspec": {
      "name": "python3",
      "display_name": "Python 3"
    },
    "language_info": {
      "name": "python"
    }
  },
  "cells": [
    {
      "cell_type": "markdown",
      "metadata": {
        "id": "view-in-github",
        "colab_type": "text"
      },
      "source": [
        "<a href=\"https://colab.research.google.com/github/manitprats/Classification/blob/main/Breast_cancer_classification.ipynb\" target=\"_parent\"><img src=\"https://colab.research.google.com/assets/colab-badge.svg\" alt=\"Open In Colab\"/></a>"
      ]
    },
    {
      "cell_type": "code",
      "source": [
        "import pandas as pd\n",
        "import seaborn as sns \n",
        "from sklearn.compose import make_column_transformer\n",
        "from sklearn.preprocessing import StandardScaler\n",
        "from sklearn.preprocessing import LabelEncoder\n",
        "from sklearn.model_selection import train_test_split\n",
        "from sklearn.linear_model import LogisticRegression\n",
        "from xgboost import XGBClassifier\n",
        "from sklearn.metrics import accuracy_score, precision_recall_fscore_support\n",
        "import tensorflow as tf\n",
        "from tensorflow.keras import callbacks\n",
        "from tensorflow.keras.callbacks import EarlyStopping"
      ],
      "metadata": {
        "id": "fnWNkW5RlmRM"
      },
      "execution_count": 5,
      "outputs": []
    },
    {
      "cell_type": "code",
      "execution_count": 4,
      "metadata": {
        "id": "bcPqKwKkgeBE"
      },
      "outputs": [],
      "source": [
        "df = pd.read_csv('/content/drive/MyDrive/Data/brca.csv')"
      ]
    },
    {
      "cell_type": "code",
      "source": [
        "df.head()"
      ],
      "metadata": {
        "colab": {
          "base_uri": "https://localhost:8080/",
          "height": 317
        },
        "id": "B7DOxwJvllRu",
        "outputId": "190f82d7-cb3d-4db4-8a03-6f884b4eda01"
      },
      "execution_count": 6,
      "outputs": [
        {
          "output_type": "execute_result",
          "data": {
            "text/plain": [
              "   Unnamed: 0  x.radius_mean  x.texture_mean  x.perimeter_mean  x.area_mean  \\\n",
              "0           1         13.540           14.36             87.46        566.3   \n",
              "1           2         13.080           15.71             85.63        520.0   \n",
              "2           3          9.504           12.44             60.34        273.9   \n",
              "3           4         13.030           18.42             82.61        523.8   \n",
              "4           5          8.196           16.84             51.71        201.9   \n",
              "\n",
              "   x.smoothness_mean  x.compactness_mean  x.concavity_mean  \\\n",
              "0            0.09779             0.08129           0.06664   \n",
              "1            0.10750             0.12700           0.04568   \n",
              "2            0.10240             0.06492           0.02956   \n",
              "3            0.08983             0.03766           0.02562   \n",
              "4            0.08600             0.05943           0.01588   \n",
              "\n",
              "   x.concave_pts_mean  x.symmetry_mean  ...  x.texture_worst  \\\n",
              "0            0.047810           0.1885  ...            19.26   \n",
              "1            0.031100           0.1967  ...            20.49   \n",
              "2            0.020760           0.1815  ...            15.66   \n",
              "3            0.029230           0.1467  ...            22.81   \n",
              "4            0.005917           0.1769  ...            21.96   \n",
              "\n",
              "   x.perimeter_worst  x.area_worst  x.smoothness_worst  x.compactness_worst  \\\n",
              "0              99.70         711.2             0.14400              0.17730   \n",
              "1              96.09         630.5             0.13120              0.27760   \n",
              "2              65.13         314.9             0.13240              0.11480   \n",
              "3              84.46         545.9             0.09701              0.04619   \n",
              "4              57.26         242.2             0.12970              0.13570   \n",
              "\n",
              "   x.concavity_worst  x.concave_pts_worst  x.symmetry_worst  \\\n",
              "0            0.23900              0.12880            0.2977   \n",
              "1            0.18900              0.07283            0.3184   \n",
              "2            0.08867              0.06227            0.2450   \n",
              "3            0.04833              0.05013            0.1987   \n",
              "4            0.06880              0.02564            0.3105   \n",
              "\n",
              "   x.fractal_dim_worst  y  \n",
              "0              0.07259  B  \n",
              "1              0.08183  B  \n",
              "2              0.07773  B  \n",
              "3              0.06169  B  \n",
              "4              0.07409  B  \n",
              "\n",
              "[5 rows x 32 columns]"
            ],
            "text/html": [
              "\n",
              "  <div id=\"df-b97ff628-3761-42a5-b1ce-91837aee012c\">\n",
              "    <div class=\"colab-df-container\">\n",
              "      <div>\n",
              "<style scoped>\n",
              "    .dataframe tbody tr th:only-of-type {\n",
              "        vertical-align: middle;\n",
              "    }\n",
              "\n",
              "    .dataframe tbody tr th {\n",
              "        vertical-align: top;\n",
              "    }\n",
              "\n",
              "    .dataframe thead th {\n",
              "        text-align: right;\n",
              "    }\n",
              "</style>\n",
              "<table border=\"1\" class=\"dataframe\">\n",
              "  <thead>\n",
              "    <tr style=\"text-align: right;\">\n",
              "      <th></th>\n",
              "      <th>Unnamed: 0</th>\n",
              "      <th>x.radius_mean</th>\n",
              "      <th>x.texture_mean</th>\n",
              "      <th>x.perimeter_mean</th>\n",
              "      <th>x.area_mean</th>\n",
              "      <th>x.smoothness_mean</th>\n",
              "      <th>x.compactness_mean</th>\n",
              "      <th>x.concavity_mean</th>\n",
              "      <th>x.concave_pts_mean</th>\n",
              "      <th>x.symmetry_mean</th>\n",
              "      <th>...</th>\n",
              "      <th>x.texture_worst</th>\n",
              "      <th>x.perimeter_worst</th>\n",
              "      <th>x.area_worst</th>\n",
              "      <th>x.smoothness_worst</th>\n",
              "      <th>x.compactness_worst</th>\n",
              "      <th>x.concavity_worst</th>\n",
              "      <th>x.concave_pts_worst</th>\n",
              "      <th>x.symmetry_worst</th>\n",
              "      <th>x.fractal_dim_worst</th>\n",
              "      <th>y</th>\n",
              "    </tr>\n",
              "  </thead>\n",
              "  <tbody>\n",
              "    <tr>\n",
              "      <th>0</th>\n",
              "      <td>1</td>\n",
              "      <td>13.540</td>\n",
              "      <td>14.36</td>\n",
              "      <td>87.46</td>\n",
              "      <td>566.3</td>\n",
              "      <td>0.09779</td>\n",
              "      <td>0.08129</td>\n",
              "      <td>0.06664</td>\n",
              "      <td>0.047810</td>\n",
              "      <td>0.1885</td>\n",
              "      <td>...</td>\n",
              "      <td>19.26</td>\n",
              "      <td>99.70</td>\n",
              "      <td>711.2</td>\n",
              "      <td>0.14400</td>\n",
              "      <td>0.17730</td>\n",
              "      <td>0.23900</td>\n",
              "      <td>0.12880</td>\n",
              "      <td>0.2977</td>\n",
              "      <td>0.07259</td>\n",
              "      <td>B</td>\n",
              "    </tr>\n",
              "    <tr>\n",
              "      <th>1</th>\n",
              "      <td>2</td>\n",
              "      <td>13.080</td>\n",
              "      <td>15.71</td>\n",
              "      <td>85.63</td>\n",
              "      <td>520.0</td>\n",
              "      <td>0.10750</td>\n",
              "      <td>0.12700</td>\n",
              "      <td>0.04568</td>\n",
              "      <td>0.031100</td>\n",
              "      <td>0.1967</td>\n",
              "      <td>...</td>\n",
              "      <td>20.49</td>\n",
              "      <td>96.09</td>\n",
              "      <td>630.5</td>\n",
              "      <td>0.13120</td>\n",
              "      <td>0.27760</td>\n",
              "      <td>0.18900</td>\n",
              "      <td>0.07283</td>\n",
              "      <td>0.3184</td>\n",
              "      <td>0.08183</td>\n",
              "      <td>B</td>\n",
              "    </tr>\n",
              "    <tr>\n",
              "      <th>2</th>\n",
              "      <td>3</td>\n",
              "      <td>9.504</td>\n",
              "      <td>12.44</td>\n",
              "      <td>60.34</td>\n",
              "      <td>273.9</td>\n",
              "      <td>0.10240</td>\n",
              "      <td>0.06492</td>\n",
              "      <td>0.02956</td>\n",
              "      <td>0.020760</td>\n",
              "      <td>0.1815</td>\n",
              "      <td>...</td>\n",
              "      <td>15.66</td>\n",
              "      <td>65.13</td>\n",
              "      <td>314.9</td>\n",
              "      <td>0.13240</td>\n",
              "      <td>0.11480</td>\n",
              "      <td>0.08867</td>\n",
              "      <td>0.06227</td>\n",
              "      <td>0.2450</td>\n",
              "      <td>0.07773</td>\n",
              "      <td>B</td>\n",
              "    </tr>\n",
              "    <tr>\n",
              "      <th>3</th>\n",
              "      <td>4</td>\n",
              "      <td>13.030</td>\n",
              "      <td>18.42</td>\n",
              "      <td>82.61</td>\n",
              "      <td>523.8</td>\n",
              "      <td>0.08983</td>\n",
              "      <td>0.03766</td>\n",
              "      <td>0.02562</td>\n",
              "      <td>0.029230</td>\n",
              "      <td>0.1467</td>\n",
              "      <td>...</td>\n",
              "      <td>22.81</td>\n",
              "      <td>84.46</td>\n",
              "      <td>545.9</td>\n",
              "      <td>0.09701</td>\n",
              "      <td>0.04619</td>\n",
              "      <td>0.04833</td>\n",
              "      <td>0.05013</td>\n",
              "      <td>0.1987</td>\n",
              "      <td>0.06169</td>\n",
              "      <td>B</td>\n",
              "    </tr>\n",
              "    <tr>\n",
              "      <th>4</th>\n",
              "      <td>5</td>\n",
              "      <td>8.196</td>\n",
              "      <td>16.84</td>\n",
              "      <td>51.71</td>\n",
              "      <td>201.9</td>\n",
              "      <td>0.08600</td>\n",
              "      <td>0.05943</td>\n",
              "      <td>0.01588</td>\n",
              "      <td>0.005917</td>\n",
              "      <td>0.1769</td>\n",
              "      <td>...</td>\n",
              "      <td>21.96</td>\n",
              "      <td>57.26</td>\n",
              "      <td>242.2</td>\n",
              "      <td>0.12970</td>\n",
              "      <td>0.13570</td>\n",
              "      <td>0.06880</td>\n",
              "      <td>0.02564</td>\n",
              "      <td>0.3105</td>\n",
              "      <td>0.07409</td>\n",
              "      <td>B</td>\n",
              "    </tr>\n",
              "  </tbody>\n",
              "</table>\n",
              "<p>5 rows × 32 columns</p>\n",
              "</div>\n",
              "      <button class=\"colab-df-convert\" onclick=\"convertToInteractive('df-b97ff628-3761-42a5-b1ce-91837aee012c')\"\n",
              "              title=\"Convert this dataframe to an interactive table.\"\n",
              "              style=\"display:none;\">\n",
              "        \n",
              "  <svg xmlns=\"http://www.w3.org/2000/svg\" height=\"24px\"viewBox=\"0 0 24 24\"\n",
              "       width=\"24px\">\n",
              "    <path d=\"M0 0h24v24H0V0z\" fill=\"none\"/>\n",
              "    <path d=\"M18.56 5.44l.94 2.06.94-2.06 2.06-.94-2.06-.94-.94-2.06-.94 2.06-2.06.94zm-11 1L8.5 8.5l.94-2.06 2.06-.94-2.06-.94L8.5 2.5l-.94 2.06-2.06.94zm10 10l.94 2.06.94-2.06 2.06-.94-2.06-.94-.94-2.06-.94 2.06-2.06.94z\"/><path d=\"M17.41 7.96l-1.37-1.37c-.4-.4-.92-.59-1.43-.59-.52 0-1.04.2-1.43.59L10.3 9.45l-7.72 7.72c-.78.78-.78 2.05 0 2.83L4 21.41c.39.39.9.59 1.41.59.51 0 1.02-.2 1.41-.59l7.78-7.78 2.81-2.81c.8-.78.8-2.07 0-2.86zM5.41 20L4 18.59l7.72-7.72 1.47 1.35L5.41 20z\"/>\n",
              "  </svg>\n",
              "      </button>\n",
              "      \n",
              "  <style>\n",
              "    .colab-df-container {\n",
              "      display:flex;\n",
              "      flex-wrap:wrap;\n",
              "      gap: 12px;\n",
              "    }\n",
              "\n",
              "    .colab-df-convert {\n",
              "      background-color: #E8F0FE;\n",
              "      border: none;\n",
              "      border-radius: 50%;\n",
              "      cursor: pointer;\n",
              "      display: none;\n",
              "      fill: #1967D2;\n",
              "      height: 32px;\n",
              "      padding: 0 0 0 0;\n",
              "      width: 32px;\n",
              "    }\n",
              "\n",
              "    .colab-df-convert:hover {\n",
              "      background-color: #E2EBFA;\n",
              "      box-shadow: 0px 1px 2px rgba(60, 64, 67, 0.3), 0px 1px 3px 1px rgba(60, 64, 67, 0.15);\n",
              "      fill: #174EA6;\n",
              "    }\n",
              "\n",
              "    [theme=dark] .colab-df-convert {\n",
              "      background-color: #3B4455;\n",
              "      fill: #D2E3FC;\n",
              "    }\n",
              "\n",
              "    [theme=dark] .colab-df-convert:hover {\n",
              "      background-color: #434B5C;\n",
              "      box-shadow: 0px 1px 3px 1px rgba(0, 0, 0, 0.15);\n",
              "      filter: drop-shadow(0px 1px 2px rgba(0, 0, 0, 0.3));\n",
              "      fill: #FFFFFF;\n",
              "    }\n",
              "  </style>\n",
              "\n",
              "      <script>\n",
              "        const buttonEl =\n",
              "          document.querySelector('#df-b97ff628-3761-42a5-b1ce-91837aee012c button.colab-df-convert');\n",
              "        buttonEl.style.display =\n",
              "          google.colab.kernel.accessAllowed ? 'block' : 'none';\n",
              "\n",
              "        async function convertToInteractive(key) {\n",
              "          const element = document.querySelector('#df-b97ff628-3761-42a5-b1ce-91837aee012c');\n",
              "          const dataTable =\n",
              "            await google.colab.kernel.invokeFunction('convertToInteractive',\n",
              "                                                     [key], {});\n",
              "          if (!dataTable) return;\n",
              "\n",
              "          const docLinkHtml = 'Like what you see? Visit the ' +\n",
              "            '<a target=\"_blank\" href=https://colab.research.google.com/notebooks/data_table.ipynb>data table notebook</a>'\n",
              "            + ' to learn more about interactive tables.';\n",
              "          element.innerHTML = '';\n",
              "          dataTable['output_type'] = 'display_data';\n",
              "          await google.colab.output.renderOutput(dataTable, element);\n",
              "          const docLink = document.createElement('div');\n",
              "          docLink.innerHTML = docLinkHtml;\n",
              "          element.appendChild(docLink);\n",
              "        }\n",
              "      </script>\n",
              "    </div>\n",
              "  </div>\n",
              "  "
            ]
          },
          "metadata": {},
          "execution_count": 6
        }
      ]
    },
    {
      "cell_type": "code",
      "source": [
        "df=df.drop('Unnamed: 0',axis=1)"
      ],
      "metadata": {
        "id": "0LhrQ50zlwmI"
      },
      "execution_count": 7,
      "outputs": []
    },
    {
      "cell_type": "code",
      "source": [
        "df.head()"
      ],
      "metadata": {
        "colab": {
          "base_uri": "https://localhost:8080/",
          "height": 300
        },
        "id": "5KVOUXOJl2P1",
        "outputId": "5a271d5e-8a92-4f2f-dd97-c308e87363ef"
      },
      "execution_count": 8,
      "outputs": [
        {
          "output_type": "execute_result",
          "data": {
            "text/plain": [
              "   x.radius_mean  x.texture_mean  x.perimeter_mean  x.area_mean  \\\n",
              "0         13.540           14.36             87.46        566.3   \n",
              "1         13.080           15.71             85.63        520.0   \n",
              "2          9.504           12.44             60.34        273.9   \n",
              "3         13.030           18.42             82.61        523.8   \n",
              "4          8.196           16.84             51.71        201.9   \n",
              "\n",
              "   x.smoothness_mean  x.compactness_mean  x.concavity_mean  \\\n",
              "0            0.09779             0.08129           0.06664   \n",
              "1            0.10750             0.12700           0.04568   \n",
              "2            0.10240             0.06492           0.02956   \n",
              "3            0.08983             0.03766           0.02562   \n",
              "4            0.08600             0.05943           0.01588   \n",
              "\n",
              "   x.concave_pts_mean  x.symmetry_mean  x.fractal_dim_mean  ...  \\\n",
              "0            0.047810           0.1885             0.05766  ...   \n",
              "1            0.031100           0.1967             0.06811  ...   \n",
              "2            0.020760           0.1815             0.06905  ...   \n",
              "3            0.029230           0.1467             0.05863  ...   \n",
              "4            0.005917           0.1769             0.06503  ...   \n",
              "\n",
              "   x.texture_worst  x.perimeter_worst  x.area_worst  x.smoothness_worst  \\\n",
              "0            19.26              99.70         711.2             0.14400   \n",
              "1            20.49              96.09         630.5             0.13120   \n",
              "2            15.66              65.13         314.9             0.13240   \n",
              "3            22.81              84.46         545.9             0.09701   \n",
              "4            21.96              57.26         242.2             0.12970   \n",
              "\n",
              "   x.compactness_worst  x.concavity_worst  x.concave_pts_worst  \\\n",
              "0              0.17730            0.23900              0.12880   \n",
              "1              0.27760            0.18900              0.07283   \n",
              "2              0.11480            0.08867              0.06227   \n",
              "3              0.04619            0.04833              0.05013   \n",
              "4              0.13570            0.06880              0.02564   \n",
              "\n",
              "   x.symmetry_worst  x.fractal_dim_worst  y  \n",
              "0            0.2977              0.07259  B  \n",
              "1            0.3184              0.08183  B  \n",
              "2            0.2450              0.07773  B  \n",
              "3            0.1987              0.06169  B  \n",
              "4            0.3105              0.07409  B  \n",
              "\n",
              "[5 rows x 31 columns]"
            ],
            "text/html": [
              "\n",
              "  <div id=\"df-d74dbf91-40e1-40af-89ab-9461cddfc0d9\">\n",
              "    <div class=\"colab-df-container\">\n",
              "      <div>\n",
              "<style scoped>\n",
              "    .dataframe tbody tr th:only-of-type {\n",
              "        vertical-align: middle;\n",
              "    }\n",
              "\n",
              "    .dataframe tbody tr th {\n",
              "        vertical-align: top;\n",
              "    }\n",
              "\n",
              "    .dataframe thead th {\n",
              "        text-align: right;\n",
              "    }\n",
              "</style>\n",
              "<table border=\"1\" class=\"dataframe\">\n",
              "  <thead>\n",
              "    <tr style=\"text-align: right;\">\n",
              "      <th></th>\n",
              "      <th>x.radius_mean</th>\n",
              "      <th>x.texture_mean</th>\n",
              "      <th>x.perimeter_mean</th>\n",
              "      <th>x.area_mean</th>\n",
              "      <th>x.smoothness_mean</th>\n",
              "      <th>x.compactness_mean</th>\n",
              "      <th>x.concavity_mean</th>\n",
              "      <th>x.concave_pts_mean</th>\n",
              "      <th>x.symmetry_mean</th>\n",
              "      <th>x.fractal_dim_mean</th>\n",
              "      <th>...</th>\n",
              "      <th>x.texture_worst</th>\n",
              "      <th>x.perimeter_worst</th>\n",
              "      <th>x.area_worst</th>\n",
              "      <th>x.smoothness_worst</th>\n",
              "      <th>x.compactness_worst</th>\n",
              "      <th>x.concavity_worst</th>\n",
              "      <th>x.concave_pts_worst</th>\n",
              "      <th>x.symmetry_worst</th>\n",
              "      <th>x.fractal_dim_worst</th>\n",
              "      <th>y</th>\n",
              "    </tr>\n",
              "  </thead>\n",
              "  <tbody>\n",
              "    <tr>\n",
              "      <th>0</th>\n",
              "      <td>13.540</td>\n",
              "      <td>14.36</td>\n",
              "      <td>87.46</td>\n",
              "      <td>566.3</td>\n",
              "      <td>0.09779</td>\n",
              "      <td>0.08129</td>\n",
              "      <td>0.06664</td>\n",
              "      <td>0.047810</td>\n",
              "      <td>0.1885</td>\n",
              "      <td>0.05766</td>\n",
              "      <td>...</td>\n",
              "      <td>19.26</td>\n",
              "      <td>99.70</td>\n",
              "      <td>711.2</td>\n",
              "      <td>0.14400</td>\n",
              "      <td>0.17730</td>\n",
              "      <td>0.23900</td>\n",
              "      <td>0.12880</td>\n",
              "      <td>0.2977</td>\n",
              "      <td>0.07259</td>\n",
              "      <td>B</td>\n",
              "    </tr>\n",
              "    <tr>\n",
              "      <th>1</th>\n",
              "      <td>13.080</td>\n",
              "      <td>15.71</td>\n",
              "      <td>85.63</td>\n",
              "      <td>520.0</td>\n",
              "      <td>0.10750</td>\n",
              "      <td>0.12700</td>\n",
              "      <td>0.04568</td>\n",
              "      <td>0.031100</td>\n",
              "      <td>0.1967</td>\n",
              "      <td>0.06811</td>\n",
              "      <td>...</td>\n",
              "      <td>20.49</td>\n",
              "      <td>96.09</td>\n",
              "      <td>630.5</td>\n",
              "      <td>0.13120</td>\n",
              "      <td>0.27760</td>\n",
              "      <td>0.18900</td>\n",
              "      <td>0.07283</td>\n",
              "      <td>0.3184</td>\n",
              "      <td>0.08183</td>\n",
              "      <td>B</td>\n",
              "    </tr>\n",
              "    <tr>\n",
              "      <th>2</th>\n",
              "      <td>9.504</td>\n",
              "      <td>12.44</td>\n",
              "      <td>60.34</td>\n",
              "      <td>273.9</td>\n",
              "      <td>0.10240</td>\n",
              "      <td>0.06492</td>\n",
              "      <td>0.02956</td>\n",
              "      <td>0.020760</td>\n",
              "      <td>0.1815</td>\n",
              "      <td>0.06905</td>\n",
              "      <td>...</td>\n",
              "      <td>15.66</td>\n",
              "      <td>65.13</td>\n",
              "      <td>314.9</td>\n",
              "      <td>0.13240</td>\n",
              "      <td>0.11480</td>\n",
              "      <td>0.08867</td>\n",
              "      <td>0.06227</td>\n",
              "      <td>0.2450</td>\n",
              "      <td>0.07773</td>\n",
              "      <td>B</td>\n",
              "    </tr>\n",
              "    <tr>\n",
              "      <th>3</th>\n",
              "      <td>13.030</td>\n",
              "      <td>18.42</td>\n",
              "      <td>82.61</td>\n",
              "      <td>523.8</td>\n",
              "      <td>0.08983</td>\n",
              "      <td>0.03766</td>\n",
              "      <td>0.02562</td>\n",
              "      <td>0.029230</td>\n",
              "      <td>0.1467</td>\n",
              "      <td>0.05863</td>\n",
              "      <td>...</td>\n",
              "      <td>22.81</td>\n",
              "      <td>84.46</td>\n",
              "      <td>545.9</td>\n",
              "      <td>0.09701</td>\n",
              "      <td>0.04619</td>\n",
              "      <td>0.04833</td>\n",
              "      <td>0.05013</td>\n",
              "      <td>0.1987</td>\n",
              "      <td>0.06169</td>\n",
              "      <td>B</td>\n",
              "    </tr>\n",
              "    <tr>\n",
              "      <th>4</th>\n",
              "      <td>8.196</td>\n",
              "      <td>16.84</td>\n",
              "      <td>51.71</td>\n",
              "      <td>201.9</td>\n",
              "      <td>0.08600</td>\n",
              "      <td>0.05943</td>\n",
              "      <td>0.01588</td>\n",
              "      <td>0.005917</td>\n",
              "      <td>0.1769</td>\n",
              "      <td>0.06503</td>\n",
              "      <td>...</td>\n",
              "      <td>21.96</td>\n",
              "      <td>57.26</td>\n",
              "      <td>242.2</td>\n",
              "      <td>0.12970</td>\n",
              "      <td>0.13570</td>\n",
              "      <td>0.06880</td>\n",
              "      <td>0.02564</td>\n",
              "      <td>0.3105</td>\n",
              "      <td>0.07409</td>\n",
              "      <td>B</td>\n",
              "    </tr>\n",
              "  </tbody>\n",
              "</table>\n",
              "<p>5 rows × 31 columns</p>\n",
              "</div>\n",
              "      <button class=\"colab-df-convert\" onclick=\"convertToInteractive('df-d74dbf91-40e1-40af-89ab-9461cddfc0d9')\"\n",
              "              title=\"Convert this dataframe to an interactive table.\"\n",
              "              style=\"display:none;\">\n",
              "        \n",
              "  <svg xmlns=\"http://www.w3.org/2000/svg\" height=\"24px\"viewBox=\"0 0 24 24\"\n",
              "       width=\"24px\">\n",
              "    <path d=\"M0 0h24v24H0V0z\" fill=\"none\"/>\n",
              "    <path d=\"M18.56 5.44l.94 2.06.94-2.06 2.06-.94-2.06-.94-.94-2.06-.94 2.06-2.06.94zm-11 1L8.5 8.5l.94-2.06 2.06-.94-2.06-.94L8.5 2.5l-.94 2.06-2.06.94zm10 10l.94 2.06.94-2.06 2.06-.94-2.06-.94-.94-2.06-.94 2.06-2.06.94z\"/><path d=\"M17.41 7.96l-1.37-1.37c-.4-.4-.92-.59-1.43-.59-.52 0-1.04.2-1.43.59L10.3 9.45l-7.72 7.72c-.78.78-.78 2.05 0 2.83L4 21.41c.39.39.9.59 1.41.59.51 0 1.02-.2 1.41-.59l7.78-7.78 2.81-2.81c.8-.78.8-2.07 0-2.86zM5.41 20L4 18.59l7.72-7.72 1.47 1.35L5.41 20z\"/>\n",
              "  </svg>\n",
              "      </button>\n",
              "      \n",
              "  <style>\n",
              "    .colab-df-container {\n",
              "      display:flex;\n",
              "      flex-wrap:wrap;\n",
              "      gap: 12px;\n",
              "    }\n",
              "\n",
              "    .colab-df-convert {\n",
              "      background-color: #E8F0FE;\n",
              "      border: none;\n",
              "      border-radius: 50%;\n",
              "      cursor: pointer;\n",
              "      display: none;\n",
              "      fill: #1967D2;\n",
              "      height: 32px;\n",
              "      padding: 0 0 0 0;\n",
              "      width: 32px;\n",
              "    }\n",
              "\n",
              "    .colab-df-convert:hover {\n",
              "      background-color: #E2EBFA;\n",
              "      box-shadow: 0px 1px 2px rgba(60, 64, 67, 0.3), 0px 1px 3px 1px rgba(60, 64, 67, 0.15);\n",
              "      fill: #174EA6;\n",
              "    }\n",
              "\n",
              "    [theme=dark] .colab-df-convert {\n",
              "      background-color: #3B4455;\n",
              "      fill: #D2E3FC;\n",
              "    }\n",
              "\n",
              "    [theme=dark] .colab-df-convert:hover {\n",
              "      background-color: #434B5C;\n",
              "      box-shadow: 0px 1px 3px 1px rgba(0, 0, 0, 0.15);\n",
              "      filter: drop-shadow(0px 1px 2px rgba(0, 0, 0, 0.3));\n",
              "      fill: #FFFFFF;\n",
              "    }\n",
              "  </style>\n",
              "\n",
              "      <script>\n",
              "        const buttonEl =\n",
              "          document.querySelector('#df-d74dbf91-40e1-40af-89ab-9461cddfc0d9 button.colab-df-convert');\n",
              "        buttonEl.style.display =\n",
              "          google.colab.kernel.accessAllowed ? 'block' : 'none';\n",
              "\n",
              "        async function convertToInteractive(key) {\n",
              "          const element = document.querySelector('#df-d74dbf91-40e1-40af-89ab-9461cddfc0d9');\n",
              "          const dataTable =\n",
              "            await google.colab.kernel.invokeFunction('convertToInteractive',\n",
              "                                                     [key], {});\n",
              "          if (!dataTable) return;\n",
              "\n",
              "          const docLinkHtml = 'Like what you see? Visit the ' +\n",
              "            '<a target=\"_blank\" href=https://colab.research.google.com/notebooks/data_table.ipynb>data table notebook</a>'\n",
              "            + ' to learn more about interactive tables.';\n",
              "          element.innerHTML = '';\n",
              "          dataTable['output_type'] = 'display_data';\n",
              "          await google.colab.output.renderOutput(dataTable, element);\n",
              "          const docLink = document.createElement('div');\n",
              "          docLink.innerHTML = docLinkHtml;\n",
              "          element.appendChild(docLink);\n",
              "        }\n",
              "      </script>\n",
              "    </div>\n",
              "  </div>\n",
              "  "
            ]
          },
          "metadata": {},
          "execution_count": 8
        }
      ]
    },
    {
      "cell_type": "code",
      "source": [
        "df.columns"
      ],
      "metadata": {
        "colab": {
          "base_uri": "https://localhost:8080/"
        },
        "id": "bdhY0VS6l3RP",
        "outputId": "08bb87eb-efb4-444e-c5e5-bafaeffda29f"
      },
      "execution_count": 9,
      "outputs": [
        {
          "output_type": "execute_result",
          "data": {
            "text/plain": [
              "Index(['x.radius_mean', 'x.texture_mean', 'x.perimeter_mean', 'x.area_mean',\n",
              "       'x.smoothness_mean', 'x.compactness_mean', 'x.concavity_mean',\n",
              "       'x.concave_pts_mean', 'x.symmetry_mean', 'x.fractal_dim_mean',\n",
              "       'x.radius_se', 'x.texture_se', 'x.perimeter_se', 'x.area_se',\n",
              "       'x.smoothness_se', 'x.compactness_se', 'x.concavity_se',\n",
              "       'x.concave_pts_se', 'x.symmetry_se', 'x.fractal_dim_se',\n",
              "       'x.radius_worst', 'x.texture_worst', 'x.perimeter_worst',\n",
              "       'x.area_worst', 'x.smoothness_worst', 'x.compactness_worst',\n",
              "       'x.concavity_worst', 'x.concave_pts_worst', 'x.symmetry_worst',\n",
              "       'x.fractal_dim_worst', 'y'],\n",
              "      dtype='object')"
            ]
          },
          "metadata": {},
          "execution_count": 9
        }
      ]
    },
    {
      "cell_type": "code",
      "source": [
        "df.shape"
      ],
      "metadata": {
        "colab": {
          "base_uri": "https://localhost:8080/"
        },
        "id": "AzDLPwtel6_z",
        "outputId": "a0cc5028-05bc-4c01-dee2-72a9e9606e01"
      },
      "execution_count": 10,
      "outputs": [
        {
          "output_type": "execute_result",
          "data": {
            "text/plain": [
              "(569, 31)"
            ]
          },
          "metadata": {},
          "execution_count": 10
        }
      ]
    },
    {
      "cell_type": "code",
      "source": [
        "df.info()"
      ],
      "metadata": {
        "colab": {
          "base_uri": "https://localhost:8080/"
        },
        "id": "yXOEtVLAl8G2",
        "outputId": "d9924d09-eb5f-4dc1-9430-e3d6f90d3187"
      },
      "execution_count": 13,
      "outputs": [
        {
          "output_type": "stream",
          "name": "stdout",
          "text": [
            "<class 'pandas.core.frame.DataFrame'>\n",
            "RangeIndex: 569 entries, 0 to 568\n",
            "Data columns (total 31 columns):\n",
            " #   Column               Non-Null Count  Dtype  \n",
            "---  ------               --------------  -----  \n",
            " 0   x.radius_mean        569 non-null    float64\n",
            " 1   x.texture_mean       569 non-null    float64\n",
            " 2   x.perimeter_mean     569 non-null    float64\n",
            " 3   x.area_mean          569 non-null    float64\n",
            " 4   x.smoothness_mean    569 non-null    float64\n",
            " 5   x.compactness_mean   569 non-null    float64\n",
            " 6   x.concavity_mean     569 non-null    float64\n",
            " 7   x.concave_pts_mean   569 non-null    float64\n",
            " 8   x.symmetry_mean      569 non-null    float64\n",
            " 9   x.fractal_dim_mean   569 non-null    float64\n",
            " 10  x.radius_se          569 non-null    float64\n",
            " 11  x.texture_se         569 non-null    float64\n",
            " 12  x.perimeter_se       569 non-null    float64\n",
            " 13  x.area_se            569 non-null    float64\n",
            " 14  x.smoothness_se      569 non-null    float64\n",
            " 15  x.compactness_se     569 non-null    float64\n",
            " 16  x.concavity_se       569 non-null    float64\n",
            " 17  x.concave_pts_se     569 non-null    float64\n",
            " 18  x.symmetry_se        569 non-null    float64\n",
            " 19  x.fractal_dim_se     569 non-null    float64\n",
            " 20  x.radius_worst       569 non-null    float64\n",
            " 21  x.texture_worst      569 non-null    float64\n",
            " 22  x.perimeter_worst    569 non-null    float64\n",
            " 23  x.area_worst         569 non-null    float64\n",
            " 24  x.smoothness_worst   569 non-null    float64\n",
            " 25  x.compactness_worst  569 non-null    float64\n",
            " 26  x.concavity_worst    569 non-null    float64\n",
            " 27  x.concave_pts_worst  569 non-null    float64\n",
            " 28  x.symmetry_worst     569 non-null    float64\n",
            " 29  x.fractal_dim_worst  569 non-null    float64\n",
            " 30  y                    569 non-null    object \n",
            "dtypes: float64(30), object(1)\n",
            "memory usage: 137.9+ KB\n"
          ]
        }
      ]
    },
    {
      "cell_type": "code",
      "source": [
        "df.describe()"
      ],
      "metadata": {
        "colab": {
          "base_uri": "https://localhost:8080/",
          "height": 394
        },
        "id": "FGxzGe2ql9RL",
        "outputId": "3cea4fed-54fc-4b54-94c4-97f8f1dc31a0"
      },
      "execution_count": 14,
      "outputs": [
        {
          "output_type": "execute_result",
          "data": {
            "text/plain": [
              "       x.radius_mean  x.texture_mean  x.perimeter_mean  x.area_mean  \\\n",
              "count     569.000000      569.000000        569.000000   569.000000   \n",
              "mean       14.127292       19.289649         91.969033   654.889104   \n",
              "std         3.524049        4.301036         24.298981   351.914129   \n",
              "min         6.981000        9.710000         43.790000   143.500000   \n",
              "25%        11.700000       16.170000         75.170000   420.300000   \n",
              "50%        13.370000       18.840000         86.240000   551.100000   \n",
              "75%        15.780000       21.800000        104.100000   782.700000   \n",
              "max        28.110000       39.280000        188.500000  2501.000000   \n",
              "\n",
              "       x.smoothness_mean  x.compactness_mean  x.concavity_mean  \\\n",
              "count         569.000000          569.000000        569.000000   \n",
              "mean            0.096360            0.104341          0.088799   \n",
              "std             0.014064            0.052813          0.079720   \n",
              "min             0.052630            0.019380          0.000000   \n",
              "25%             0.086370            0.064920          0.029560   \n",
              "50%             0.095870            0.092630          0.061540   \n",
              "75%             0.105300            0.130400          0.130700   \n",
              "max             0.163400            0.345400          0.426800   \n",
              "\n",
              "       x.concave_pts_mean  x.symmetry_mean  x.fractal_dim_mean  ...  \\\n",
              "count          569.000000       569.000000          569.000000  ...   \n",
              "mean             0.048919         0.181162            0.062798  ...   \n",
              "std              0.038803         0.027414            0.007060  ...   \n",
              "min              0.000000         0.106000            0.049960  ...   \n",
              "25%              0.020310         0.161900            0.057700  ...   \n",
              "50%              0.033500         0.179200            0.061540  ...   \n",
              "75%              0.074000         0.195700            0.066120  ...   \n",
              "max              0.201200         0.304000            0.097440  ...   \n",
              "\n",
              "       x.radius_worst  x.texture_worst  x.perimeter_worst  x.area_worst  \\\n",
              "count      569.000000       569.000000         569.000000    569.000000   \n",
              "mean        16.269190        25.677223         107.261213    880.583128   \n",
              "std          4.833242         6.146258          33.602542    569.356993   \n",
              "min          7.930000        12.020000          50.410000    185.200000   \n",
              "25%         13.010000        21.080000          84.110000    515.300000   \n",
              "50%         14.970000        25.410000          97.660000    686.500000   \n",
              "75%         18.790000        29.720000         125.400000   1084.000000   \n",
              "max         36.040000        49.540000         251.200000   4254.000000   \n",
              "\n",
              "       x.smoothness_worst  x.compactness_worst  x.concavity_worst  \\\n",
              "count          569.000000           569.000000         569.000000   \n",
              "mean             0.132369             0.254265           0.272188   \n",
              "std              0.022832             0.157336           0.208624   \n",
              "min              0.071170             0.027290           0.000000   \n",
              "25%              0.116600             0.147200           0.114500   \n",
              "50%              0.131300             0.211900           0.226700   \n",
              "75%              0.146000             0.339100           0.382900   \n",
              "max              0.222600             1.058000           1.252000   \n",
              "\n",
              "       x.concave_pts_worst  x.symmetry_worst  x.fractal_dim_worst  \n",
              "count           569.000000        569.000000           569.000000  \n",
              "mean              0.114606          0.290076             0.083946  \n",
              "std               0.065732          0.061867             0.018061  \n",
              "min               0.000000          0.156500             0.055040  \n",
              "25%               0.064930          0.250400             0.071460  \n",
              "50%               0.099930          0.282200             0.080040  \n",
              "75%               0.161400          0.317900             0.092080  \n",
              "max               0.291000          0.663800             0.207500  \n",
              "\n",
              "[8 rows x 30 columns]"
            ],
            "text/html": [
              "\n",
              "  <div id=\"df-f235d535-b542-4891-8f1c-e771d5975fef\">\n",
              "    <div class=\"colab-df-container\">\n",
              "      <div>\n",
              "<style scoped>\n",
              "    .dataframe tbody tr th:only-of-type {\n",
              "        vertical-align: middle;\n",
              "    }\n",
              "\n",
              "    .dataframe tbody tr th {\n",
              "        vertical-align: top;\n",
              "    }\n",
              "\n",
              "    .dataframe thead th {\n",
              "        text-align: right;\n",
              "    }\n",
              "</style>\n",
              "<table border=\"1\" class=\"dataframe\">\n",
              "  <thead>\n",
              "    <tr style=\"text-align: right;\">\n",
              "      <th></th>\n",
              "      <th>x.radius_mean</th>\n",
              "      <th>x.texture_mean</th>\n",
              "      <th>x.perimeter_mean</th>\n",
              "      <th>x.area_mean</th>\n",
              "      <th>x.smoothness_mean</th>\n",
              "      <th>x.compactness_mean</th>\n",
              "      <th>x.concavity_mean</th>\n",
              "      <th>x.concave_pts_mean</th>\n",
              "      <th>x.symmetry_mean</th>\n",
              "      <th>x.fractal_dim_mean</th>\n",
              "      <th>...</th>\n",
              "      <th>x.radius_worst</th>\n",
              "      <th>x.texture_worst</th>\n",
              "      <th>x.perimeter_worst</th>\n",
              "      <th>x.area_worst</th>\n",
              "      <th>x.smoothness_worst</th>\n",
              "      <th>x.compactness_worst</th>\n",
              "      <th>x.concavity_worst</th>\n",
              "      <th>x.concave_pts_worst</th>\n",
              "      <th>x.symmetry_worst</th>\n",
              "      <th>x.fractal_dim_worst</th>\n",
              "    </tr>\n",
              "  </thead>\n",
              "  <tbody>\n",
              "    <tr>\n",
              "      <th>count</th>\n",
              "      <td>569.000000</td>\n",
              "      <td>569.000000</td>\n",
              "      <td>569.000000</td>\n",
              "      <td>569.000000</td>\n",
              "      <td>569.000000</td>\n",
              "      <td>569.000000</td>\n",
              "      <td>569.000000</td>\n",
              "      <td>569.000000</td>\n",
              "      <td>569.000000</td>\n",
              "      <td>569.000000</td>\n",
              "      <td>...</td>\n",
              "      <td>569.000000</td>\n",
              "      <td>569.000000</td>\n",
              "      <td>569.000000</td>\n",
              "      <td>569.000000</td>\n",
              "      <td>569.000000</td>\n",
              "      <td>569.000000</td>\n",
              "      <td>569.000000</td>\n",
              "      <td>569.000000</td>\n",
              "      <td>569.000000</td>\n",
              "      <td>569.000000</td>\n",
              "    </tr>\n",
              "    <tr>\n",
              "      <th>mean</th>\n",
              "      <td>14.127292</td>\n",
              "      <td>19.289649</td>\n",
              "      <td>91.969033</td>\n",
              "      <td>654.889104</td>\n",
              "      <td>0.096360</td>\n",
              "      <td>0.104341</td>\n",
              "      <td>0.088799</td>\n",
              "      <td>0.048919</td>\n",
              "      <td>0.181162</td>\n",
              "      <td>0.062798</td>\n",
              "      <td>...</td>\n",
              "      <td>16.269190</td>\n",
              "      <td>25.677223</td>\n",
              "      <td>107.261213</td>\n",
              "      <td>880.583128</td>\n",
              "      <td>0.132369</td>\n",
              "      <td>0.254265</td>\n",
              "      <td>0.272188</td>\n",
              "      <td>0.114606</td>\n",
              "      <td>0.290076</td>\n",
              "      <td>0.083946</td>\n",
              "    </tr>\n",
              "    <tr>\n",
              "      <th>std</th>\n",
              "      <td>3.524049</td>\n",
              "      <td>4.301036</td>\n",
              "      <td>24.298981</td>\n",
              "      <td>351.914129</td>\n",
              "      <td>0.014064</td>\n",
              "      <td>0.052813</td>\n",
              "      <td>0.079720</td>\n",
              "      <td>0.038803</td>\n",
              "      <td>0.027414</td>\n",
              "      <td>0.007060</td>\n",
              "      <td>...</td>\n",
              "      <td>4.833242</td>\n",
              "      <td>6.146258</td>\n",
              "      <td>33.602542</td>\n",
              "      <td>569.356993</td>\n",
              "      <td>0.022832</td>\n",
              "      <td>0.157336</td>\n",
              "      <td>0.208624</td>\n",
              "      <td>0.065732</td>\n",
              "      <td>0.061867</td>\n",
              "      <td>0.018061</td>\n",
              "    </tr>\n",
              "    <tr>\n",
              "      <th>min</th>\n",
              "      <td>6.981000</td>\n",
              "      <td>9.710000</td>\n",
              "      <td>43.790000</td>\n",
              "      <td>143.500000</td>\n",
              "      <td>0.052630</td>\n",
              "      <td>0.019380</td>\n",
              "      <td>0.000000</td>\n",
              "      <td>0.000000</td>\n",
              "      <td>0.106000</td>\n",
              "      <td>0.049960</td>\n",
              "      <td>...</td>\n",
              "      <td>7.930000</td>\n",
              "      <td>12.020000</td>\n",
              "      <td>50.410000</td>\n",
              "      <td>185.200000</td>\n",
              "      <td>0.071170</td>\n",
              "      <td>0.027290</td>\n",
              "      <td>0.000000</td>\n",
              "      <td>0.000000</td>\n",
              "      <td>0.156500</td>\n",
              "      <td>0.055040</td>\n",
              "    </tr>\n",
              "    <tr>\n",
              "      <th>25%</th>\n",
              "      <td>11.700000</td>\n",
              "      <td>16.170000</td>\n",
              "      <td>75.170000</td>\n",
              "      <td>420.300000</td>\n",
              "      <td>0.086370</td>\n",
              "      <td>0.064920</td>\n",
              "      <td>0.029560</td>\n",
              "      <td>0.020310</td>\n",
              "      <td>0.161900</td>\n",
              "      <td>0.057700</td>\n",
              "      <td>...</td>\n",
              "      <td>13.010000</td>\n",
              "      <td>21.080000</td>\n",
              "      <td>84.110000</td>\n",
              "      <td>515.300000</td>\n",
              "      <td>0.116600</td>\n",
              "      <td>0.147200</td>\n",
              "      <td>0.114500</td>\n",
              "      <td>0.064930</td>\n",
              "      <td>0.250400</td>\n",
              "      <td>0.071460</td>\n",
              "    </tr>\n",
              "    <tr>\n",
              "      <th>50%</th>\n",
              "      <td>13.370000</td>\n",
              "      <td>18.840000</td>\n",
              "      <td>86.240000</td>\n",
              "      <td>551.100000</td>\n",
              "      <td>0.095870</td>\n",
              "      <td>0.092630</td>\n",
              "      <td>0.061540</td>\n",
              "      <td>0.033500</td>\n",
              "      <td>0.179200</td>\n",
              "      <td>0.061540</td>\n",
              "      <td>...</td>\n",
              "      <td>14.970000</td>\n",
              "      <td>25.410000</td>\n",
              "      <td>97.660000</td>\n",
              "      <td>686.500000</td>\n",
              "      <td>0.131300</td>\n",
              "      <td>0.211900</td>\n",
              "      <td>0.226700</td>\n",
              "      <td>0.099930</td>\n",
              "      <td>0.282200</td>\n",
              "      <td>0.080040</td>\n",
              "    </tr>\n",
              "    <tr>\n",
              "      <th>75%</th>\n",
              "      <td>15.780000</td>\n",
              "      <td>21.800000</td>\n",
              "      <td>104.100000</td>\n",
              "      <td>782.700000</td>\n",
              "      <td>0.105300</td>\n",
              "      <td>0.130400</td>\n",
              "      <td>0.130700</td>\n",
              "      <td>0.074000</td>\n",
              "      <td>0.195700</td>\n",
              "      <td>0.066120</td>\n",
              "      <td>...</td>\n",
              "      <td>18.790000</td>\n",
              "      <td>29.720000</td>\n",
              "      <td>125.400000</td>\n",
              "      <td>1084.000000</td>\n",
              "      <td>0.146000</td>\n",
              "      <td>0.339100</td>\n",
              "      <td>0.382900</td>\n",
              "      <td>0.161400</td>\n",
              "      <td>0.317900</td>\n",
              "      <td>0.092080</td>\n",
              "    </tr>\n",
              "    <tr>\n",
              "      <th>max</th>\n",
              "      <td>28.110000</td>\n",
              "      <td>39.280000</td>\n",
              "      <td>188.500000</td>\n",
              "      <td>2501.000000</td>\n",
              "      <td>0.163400</td>\n",
              "      <td>0.345400</td>\n",
              "      <td>0.426800</td>\n",
              "      <td>0.201200</td>\n",
              "      <td>0.304000</td>\n",
              "      <td>0.097440</td>\n",
              "      <td>...</td>\n",
              "      <td>36.040000</td>\n",
              "      <td>49.540000</td>\n",
              "      <td>251.200000</td>\n",
              "      <td>4254.000000</td>\n",
              "      <td>0.222600</td>\n",
              "      <td>1.058000</td>\n",
              "      <td>1.252000</td>\n",
              "      <td>0.291000</td>\n",
              "      <td>0.663800</td>\n",
              "      <td>0.207500</td>\n",
              "    </tr>\n",
              "  </tbody>\n",
              "</table>\n",
              "<p>8 rows × 30 columns</p>\n",
              "</div>\n",
              "      <button class=\"colab-df-convert\" onclick=\"convertToInteractive('df-f235d535-b542-4891-8f1c-e771d5975fef')\"\n",
              "              title=\"Convert this dataframe to an interactive table.\"\n",
              "              style=\"display:none;\">\n",
              "        \n",
              "  <svg xmlns=\"http://www.w3.org/2000/svg\" height=\"24px\"viewBox=\"0 0 24 24\"\n",
              "       width=\"24px\">\n",
              "    <path d=\"M0 0h24v24H0V0z\" fill=\"none\"/>\n",
              "    <path d=\"M18.56 5.44l.94 2.06.94-2.06 2.06-.94-2.06-.94-.94-2.06-.94 2.06-2.06.94zm-11 1L8.5 8.5l.94-2.06 2.06-.94-2.06-.94L8.5 2.5l-.94 2.06-2.06.94zm10 10l.94 2.06.94-2.06 2.06-.94-2.06-.94-.94-2.06-.94 2.06-2.06.94z\"/><path d=\"M17.41 7.96l-1.37-1.37c-.4-.4-.92-.59-1.43-.59-.52 0-1.04.2-1.43.59L10.3 9.45l-7.72 7.72c-.78.78-.78 2.05 0 2.83L4 21.41c.39.39.9.59 1.41.59.51 0 1.02-.2 1.41-.59l7.78-7.78 2.81-2.81c.8-.78.8-2.07 0-2.86zM5.41 20L4 18.59l7.72-7.72 1.47 1.35L5.41 20z\"/>\n",
              "  </svg>\n",
              "      </button>\n",
              "      \n",
              "  <style>\n",
              "    .colab-df-container {\n",
              "      display:flex;\n",
              "      flex-wrap:wrap;\n",
              "      gap: 12px;\n",
              "    }\n",
              "\n",
              "    .colab-df-convert {\n",
              "      background-color: #E8F0FE;\n",
              "      border: none;\n",
              "      border-radius: 50%;\n",
              "      cursor: pointer;\n",
              "      display: none;\n",
              "      fill: #1967D2;\n",
              "      height: 32px;\n",
              "      padding: 0 0 0 0;\n",
              "      width: 32px;\n",
              "    }\n",
              "\n",
              "    .colab-df-convert:hover {\n",
              "      background-color: #E2EBFA;\n",
              "      box-shadow: 0px 1px 2px rgba(60, 64, 67, 0.3), 0px 1px 3px 1px rgba(60, 64, 67, 0.15);\n",
              "      fill: #174EA6;\n",
              "    }\n",
              "\n",
              "    [theme=dark] .colab-df-convert {\n",
              "      background-color: #3B4455;\n",
              "      fill: #D2E3FC;\n",
              "    }\n",
              "\n",
              "    [theme=dark] .colab-df-convert:hover {\n",
              "      background-color: #434B5C;\n",
              "      box-shadow: 0px 1px 3px 1px rgba(0, 0, 0, 0.15);\n",
              "      filter: drop-shadow(0px 1px 2px rgba(0, 0, 0, 0.3));\n",
              "      fill: #FFFFFF;\n",
              "    }\n",
              "  </style>\n",
              "\n",
              "      <script>\n",
              "        const buttonEl =\n",
              "          document.querySelector('#df-f235d535-b542-4891-8f1c-e771d5975fef button.colab-df-convert');\n",
              "        buttonEl.style.display =\n",
              "          google.colab.kernel.accessAllowed ? 'block' : 'none';\n",
              "\n",
              "        async function convertToInteractive(key) {\n",
              "          const element = document.querySelector('#df-f235d535-b542-4891-8f1c-e771d5975fef');\n",
              "          const dataTable =\n",
              "            await google.colab.kernel.invokeFunction('convertToInteractive',\n",
              "                                                     [key], {});\n",
              "          if (!dataTable) return;\n",
              "\n",
              "          const docLinkHtml = 'Like what you see? Visit the ' +\n",
              "            '<a target=\"_blank\" href=https://colab.research.google.com/notebooks/data_table.ipynb>data table notebook</a>'\n",
              "            + ' to learn more about interactive tables.';\n",
              "          element.innerHTML = '';\n",
              "          dataTable['output_type'] = 'display_data';\n",
              "          await google.colab.output.renderOutput(dataTable, element);\n",
              "          const docLink = document.createElement('div');\n",
              "          docLink.innerHTML = docLinkHtml;\n",
              "          element.appendChild(docLink);\n",
              "        }\n",
              "      </script>\n",
              "    </div>\n",
              "  </div>\n",
              "  "
            ]
          },
          "metadata": {},
          "execution_count": 14
        }
      ]
    },
    {
      "cell_type": "code",
      "source": [
        "df.isnull().sum()"
      ],
      "metadata": {
        "colab": {
          "base_uri": "https://localhost:8080/"
        },
        "id": "cVsKTXf_mEN5",
        "outputId": "29d5b3b7-ccc8-487b-99f2-a7513c5d5216"
      },
      "execution_count": 15,
      "outputs": [
        {
          "output_type": "execute_result",
          "data": {
            "text/plain": [
              "x.radius_mean          0\n",
              "x.texture_mean         0\n",
              "x.perimeter_mean       0\n",
              "x.area_mean            0\n",
              "x.smoothness_mean      0\n",
              "x.compactness_mean     0\n",
              "x.concavity_mean       0\n",
              "x.concave_pts_mean     0\n",
              "x.symmetry_mean        0\n",
              "x.fractal_dim_mean     0\n",
              "x.radius_se            0\n",
              "x.texture_se           0\n",
              "x.perimeter_se         0\n",
              "x.area_se              0\n",
              "x.smoothness_se        0\n",
              "x.compactness_se       0\n",
              "x.concavity_se         0\n",
              "x.concave_pts_se       0\n",
              "x.symmetry_se          0\n",
              "x.fractal_dim_se       0\n",
              "x.radius_worst         0\n",
              "x.texture_worst        0\n",
              "x.perimeter_worst      0\n",
              "x.area_worst           0\n",
              "x.smoothness_worst     0\n",
              "x.compactness_worst    0\n",
              "x.concavity_worst      0\n",
              "x.concave_pts_worst    0\n",
              "x.symmetry_worst       0\n",
              "x.fractal_dim_worst    0\n",
              "y                      0\n",
              "dtype: int64"
            ]
          },
          "metadata": {},
          "execution_count": 15
        }
      ]
    },
    {
      "cell_type": "code",
      "source": [
        "sns.barplot(x = df[\"y\"].unique(), y = df[\"y\"].value_counts(), palette= 'viridis')"
      ],
      "metadata": {
        "colab": {
          "base_uri": "https://localhost:8080/",
          "height": 448
        },
        "id": "oGzNeP8lmGQE",
        "outputId": "38e03024-751e-4c8e-b2fc-ca14313e8441"
      },
      "execution_count": 17,
      "outputs": [
        {
          "output_type": "execute_result",
          "data": {
            "text/plain": [
              "<Axes: ylabel='y'>"
            ]
          },
          "metadata": {},
          "execution_count": 17
        },
        {
          "output_type": "display_data",
          "data": {
            "text/plain": [
              "<Figure size 640x480 with 1 Axes>"
            ],
            "image/png": "[encoded data removed]"
          },
          "metadata": {}
        }
      ]
    },
    {
      "cell_type": "code",
      "source": [
        "df.hist(figsize=(20,10))"
      ],
      "metadata": {
        "colab": {
          "base_uri": "https://localhost:8080/",
          "height": 1000
        },
        "id": "IU1fYRyxmL6s",
        "outputId": "45803c02-aab9-4a70-cec2-6a6c5de5f0af"
      },
      "execution_count": 18,
      "outputs": [
        {
          "output_type": "execute_result",
          "data": {
            "text/plain": [
              "array([[<Axes: title={'center': 'x.radius_mean'}>,\n",
              "        <Axes: title={'center': 'x.texture_mean'}>,\n",
              "        <Axes: title={'center': 'x.perimeter_mean'}>,\n",
              "        <Axes: title={'center': 'x.area_mean'}>,\n",
              "        <Axes: title={'center': 'x.smoothness_mean'}>],\n",
              "       [<Axes: title={'center': 'x.compactness_mean'}>,\n",
              "        <Axes: title={'center': 'x.concavity_mean'}>,\n",
              "        <Axes: title={'center': 'x.concave_pts_mean'}>,\n",
              "        <Axes: title={'center': 'x.symmetry_mean'}>,\n",
              "        <Axes: title={'center': 'x.fractal_dim_mean'}>],\n",
              "       [<Axes: title={'center': 'x.radius_se'}>,\n",
              "        <Axes: title={'center': 'x.texture_se'}>,\n",
              "        <Axes: title={'center': 'x.perimeter_se'}>,\n",
              "        <Axes: title={'center': 'x.area_se'}>,\n",
              "        <Axes: title={'center': 'x.smoothness_se'}>],\n",
              "       [<Axes: title={'center': 'x.compactness_se'}>,\n",
              "        <Axes: title={'center': 'x.concavity_se'}>,\n",
              "        <Axes: title={'center': 'x.concave_pts_se'}>,\n",
              "        <Axes: title={'center': 'x.symmetry_se'}>,\n",
              "        <Axes: title={'center': 'x.fractal_dim_se'}>],\n",
              "       [<Axes: title={'center': 'x.radius_worst'}>,\n",
              "        <Axes: title={'center': 'x.texture_worst'}>,\n",
              "        <Axes: title={'center': 'x.perimeter_worst'}>,\n",
              "        <Axes: title={'center': 'x.area_worst'}>,\n",
              "        <Axes: title={'center': 'x.smoothness_worst'}>],\n",
              "       [<Axes: title={'center': 'x.compactness_worst'}>,\n",
              "        <Axes: title={'center': 'x.concavity_worst'}>,\n",
              "        <Axes: title={'center': 'x.concave_pts_worst'}>,\n",
              "        <Axes: title={'center': 'x.symmetry_worst'}>,\n",
              "        <Axes: title={'center': 'x.fractal_dim_worst'}>]], dtype=object)"
            ]
          },
          "metadata": {},
          "execution_count": 18
        },
        {
          "output_type": "display_data",
          "data": {
            "text/plain": [
              "<Figure size 2000x1000 with 30 Axes>"
            ],
            "image/png": "[encoded data removed]"
          },
          "metadata": {}
        }
      ]
    },
    {
      "cell_type": "code",
      "source": [
        "label_encoded = LabelEncoder()\n",
        "df['y'] = label_encoded.fit_transform(df['y'])"
      ],
      "metadata": {
        "id": "MrzJe5_ImU1d"
      },
      "execution_count": 19,
      "outputs": []
    },
    {
      "cell_type": "code",
      "source": [
        "df.head()"
      ],
      "metadata": {
        "colab": {
          "base_uri": "https://localhost:8080/",
          "height": 300
        },
        "id": "BrV7enCQmZMY",
        "outputId": "fa4eb807-ddd0-4f1b-c3b0-e3b42c851ad4"
      },
      "execution_count": 20,
      "outputs": [
        {
          "output_type": "execute_result",
          "data": {
            "text/plain": [
              "   x.radius_mean  x.texture_mean  x.perimeter_mean  x.area_mean  \\\n",
              "0         13.540           14.36             87.46        566.3   \n",
              "1         13.080           15.71             85.63        520.0   \n",
              "2          9.504           12.44             60.34        273.9   \n",
              "3         13.030           18.42             82.61        523.8   \n",
              "4          8.196           16.84             51.71        201.9   \n",
              "\n",
              "   x.smoothness_mean  x.compactness_mean  x.concavity_mean  \\\n",
              "0            0.09779             0.08129           0.06664   \n",
              "1            0.10750             0.12700           0.04568   \n",
              "2            0.10240             0.06492           0.02956   \n",
              "3            0.08983             0.03766           0.02562   \n",
              "4            0.08600             0.05943           0.01588   \n",
              "\n",
              "   x.concave_pts_mean  x.symmetry_mean  x.fractal_dim_mean  ...  \\\n",
              "0            0.047810           0.1885             0.05766  ...   \n",
              "1            0.031100           0.1967             0.06811  ...   \n",
              "2            0.020760           0.1815             0.06905  ...   \n",
              "3            0.029230           0.1467             0.05863  ...   \n",
              "4            0.005917           0.1769             0.06503  ...   \n",
              "\n",
              "   x.texture_worst  x.perimeter_worst  x.area_worst  x.smoothness_worst  \\\n",
              "0            19.26              99.70         711.2             0.14400   \n",
              "1            20.49              96.09         630.5             0.13120   \n",
              "2            15.66              65.13         314.9             0.13240   \n",
              "3            22.81              84.46         545.9             0.09701   \n",
              "4            21.96              57.26         242.2             0.12970   \n",
              "\n",
              "   x.compactness_worst  x.concavity_worst  x.concave_pts_worst  \\\n",
              "0              0.17730            0.23900              0.12880   \n",
              "1              0.27760            0.18900              0.07283   \n",
              "2              0.11480            0.08867              0.06227   \n",
              "3              0.04619            0.04833              0.05013   \n",
              "4              0.13570            0.06880              0.02564   \n",
              "\n",
              "   x.symmetry_worst  x.fractal_dim_worst  y  \n",
              "0            0.2977              0.07259  0  \n",
              "1            0.3184              0.08183  0  \n",
              "2            0.2450              0.07773  0  \n",
              "3            0.1987              0.06169  0  \n",
              "4            0.3105              0.07409  0  \n",
              "\n",
              "[5 rows x 31 columns]"
            ],
            "text/html": [
              "\n",
              "  <div id=\"df-6fc896e6-23e3-4d95-bb9d-17456274a402\">\n",
              "    <div class=\"colab-df-container\">\n",
              "      <div>\n",
              "<style scoped>\n",
              "    .dataframe tbody tr th:only-of-type {\n",
              "        vertical-align: middle;\n",
              "    }\n",
              "\n",
              "    .dataframe tbody tr th {\n",
              "        vertical-align: top;\n",
              "    }\n",
              "\n",
              "    .dataframe thead th {\n",
              "        text-align: right;\n",
              "    }\n",
              "</style>\n",
              "<table border=\"1\" class=\"dataframe\">\n",
              "  <thead>\n",
              "    <tr style=\"text-align: right;\">\n",
              "      <th></th>\n",
              "      <th>x.radius_mean</th>\n",
              "      <th>x.texture_mean</th>\n",
              "      <th>x.perimeter_mean</th>\n",
              "      <th>x.area_mean</th>\n",
              "      <th>x.smoothness_mean</th>\n",
              "      <th>x.compactness_mean</th>\n",
              "      <th>x.concavity_mean</th>\n",
              "      <th>x.concave_pts_mean</th>\n",
              "      <th>x.symmetry_mean</th>\n",
              "      <th>x.fractal_dim_mean</th>\n",
              "      <th>...</th>\n",
              "      <th>x.texture_worst</th>\n",
              "      <th>x.perimeter_worst</th>\n",
              "      <th>x.area_worst</th>\n",
              "      <th>x.smoothness_worst</th>\n",
              "      <th>x.compactness_worst</th>\n",
              "      <th>x.concavity_worst</th>\n",
              "      <th>x.concave_pts_worst</th>\n",
              "      <th>x.symmetry_worst</th>\n",
              "      <th>x.fractal_dim_worst</th>\n",
              "      <th>y</th>\n",
              "    </tr>\n",
              "  </thead>\n",
              "  <tbody>\n",
              "    <tr>\n",
              "      <th>0</th>\n",
              "      <td>13.540</td>\n",
              "      <td>14.36</td>\n",
              "      <td>87.46</td>\n",
              "      <td>566.3</td>\n",
              "      <td>0.09779</td>\n",
              "      <td>0.08129</td>\n",
              "      <td>0.06664</td>\n",
              "      <td>0.047810</td>\n",
              "      <td>0.1885</td>\n",
              "      <td>0.05766</td>\n",
              "      <td>...</td>\n",
              "      <td>19.26</td>\n",
              "      <td>99.70</td>\n",
              "      <td>711.2</td>\n",
              "      <td>0.14400</td>\n",
              "      <td>0.17730</td>\n",
              "      <td>0.23900</td>\n",
              "      <td>0.12880</td>\n",
              "      <td>0.2977</td>\n",
              "      <td>0.07259</td>\n",
              "      <td>0</td>\n",
              "    </tr>\n",
              "    <tr>\n",
              "      <th>1</th>\n",
              "      <td>13.080</td>\n",
              "      <td>15.71</td>\n",
              "      <td>85.63</td>\n",
              "      <td>520.0</td>\n",
              "      <td>0.10750</td>\n",
              "      <td>0.12700</td>\n",
              "      <td>0.04568</td>\n",
              "      <td>0.031100</td>\n",
              "      <td>0.1967</td>\n",
              "      <td>0.06811</td>\n",
              "      <td>...</td>\n",
              "      <td>20.49</td>\n",
              "      <td>96.09</td>\n",
              "      <td>630.5</td>\n",
              "      <td>0.13120</td>\n",
              "      <td>0.27760</td>\n",
              "      <td>0.18900</td>\n",
              "      <td>0.07283</td>\n",
              "      <td>0.3184</td>\n",
              "      <td>0.08183</td>\n",
              "      <td>0</td>\n",
              "    </tr>\n",
              "    <tr>\n",
              "      <th>2</th>\n",
              "      <td>9.504</td>\n",
              "      <td>12.44</td>\n",
              "      <td>60.34</td>\n",
              "      <td>273.9</td>\n",
              "      <td>0.10240</td>\n",
              "      <td>0.06492</td>\n",
              "      <td>0.02956</td>\n",
              "      <td>0.020760</td>\n",
              "      <td>0.1815</td>\n",
              "      <td>0.06905</td>\n",
              "      <td>...</td>\n",
              "      <td>15.66</td>\n",
              "      <td>65.13</td>\n",
              "      <td>314.9</td>\n",
              "      <td>0.13240</td>\n",
              "      <td>0.11480</td>\n",
              "      <td>0.08867</td>\n",
              "      <td>0.06227</td>\n",
              "      <td>0.2450</td>\n",
              "      <td>0.07773</td>\n",
              "      <td>0</td>\n",
              "    </tr>\n",
              "    <tr>\n",
              "      <th>3</th>\n",
              "      <td>13.030</td>\n",
              "      <td>18.42</td>\n",
              "      <td>82.61</td>\n",
              "      <td>523.8</td>\n",
              "      <td>0.08983</td>\n",
              "      <td>0.03766</td>\n",
              "      <td>0.02562</td>\n",
              "      <td>0.029230</td>\n",
              "      <td>0.1467</td>\n",
              "      <td>0.05863</td>\n",
              "      <td>...</td>\n",
              "      <td>22.81</td>\n",
              "      <td>84.46</td>\n",
              "      <td>545.9</td>\n",
              "      <td>0.09701</td>\n",
              "      <td>0.04619</td>\n",
              "      <td>0.04833</td>\n",
              "      <td>0.05013</td>\n",
              "      <td>0.1987</td>\n",
              "      <td>0.06169</td>\n",
              "      <td>0</td>\n",
              "    </tr>\n",
              "    <tr>\n",
              "      <th>4</th>\n",
              "      <td>8.196</td>\n",
              "      <td>16.84</td>\n",
              "      <td>51.71</td>\n",
              "      <td>201.9</td>\n",
              "      <td>0.08600</td>\n",
              "      <td>0.05943</td>\n",
              "      <td>0.01588</td>\n",
              "      <td>0.005917</td>\n",
              "      <td>0.1769</td>\n",
              "      <td>0.06503</td>\n",
              "      <td>...</td>\n",
              "      <td>21.96</td>\n",
              "      <td>57.26</td>\n",
              "      <td>242.2</td>\n",
              "      <td>0.12970</td>\n",
              "      <td>0.13570</td>\n",
              "      <td>0.06880</td>\n",
              "      <td>0.02564</td>\n",
              "      <td>0.3105</td>\n",
              "      <td>0.07409</td>\n",
              "      <td>0</td>\n",
              "    </tr>\n",
              "  </tbody>\n",
              "</table>\n",
              "<p>5 rows × 31 columns</p>\n",
              "</div>\n",
              "      <button class=\"colab-df-convert\" onclick=\"convertToInteractive('df-6fc896e6-23e3-4d95-bb9d-17456274a402')\"\n",
              "              title=\"Convert this dataframe to an interactive table.\"\n",
              "              style=\"display:none;\">\n",
              "        \n",
              "  <svg xmlns=\"http://www.w3.org/2000/svg\" height=\"24px\"viewBox=\"0 0 24 24\"\n",
              "       width=\"24px\">\n",
              "    <path d=\"M0 0h24v24H0V0z\" fill=\"none\"/>\n",
              "    <path d=\"M18.56 5.44l.94 2.06.94-2.06 2.06-.94-2.06-.94-.94-2.06-.94 2.06-2.06.94zm-11 1L8.5 8.5l.94-2.06 2.06-.94-2.06-.94L8.5 2.5l-.94 2.06-2.06.94zm10 10l.94 2.06.94-2.06 2.06-.94-2.06-.94-.94-2.06-.94 2.06-2.06.94z\"/><path d=\"M17.41 7.96l-1.37-1.37c-.4-.4-.92-.59-1.43-.59-.52 0-1.04.2-1.43.59L10.3 9.45l-7.72 7.72c-.78.78-.78 2.05 0 2.83L4 21.41c.39.39.9.59 1.41.59.51 0 1.02-.2 1.41-.59l7.78-7.78 2.81-2.81c.8-.78.8-2.07 0-2.86zM5.41 20L4 18.59l7.72-7.72 1.47 1.35L5.41 20z\"/>\n",
              "  </svg>\n",
              "      </button>\n",
              "      \n",
              "  <style>\n",
              "    .colab-df-container {\n",
              "      display:flex;\n",
              "      flex-wrap:wrap;\n",
              "      gap: 12px;\n",
              "    }\n",
              "\n",
              "    .colab-df-convert {\n",
              "      background-color: #E8F0FE;\n",
              "      border: none;\n",
              "      border-radius: 50%;\n",
              "      cursor: pointer;\n",
              "      display: none;\n",
              "      fill: #1967D2;\n",
              "      height: 32px;\n",
              "      padding: 0 0 0 0;\n",
              "      width: 32px;\n",
              "    }\n",
              "\n",
              "    .colab-df-convert:hover {\n",
              "      background-color: #E2EBFA;\n",
              "      box-shadow: 0px 1px 2px rgba(60, 64, 67, 0.3), 0px 1px 3px 1px rgba(60, 64, 67, 0.15);\n",
              "      fill: #174EA6;\n",
              "    }\n",
              "\n",
              "    [theme=dark] .colab-df-convert {\n",
              "      background-color: #3B4455;\n",
              "      fill: #D2E3FC;\n",
              "    }\n",
              "\n",
              "    [theme=dark] .colab-df-convert:hover {\n",
              "      background-color: #434B5C;\n",
              "      box-shadow: 0px 1px 3px 1px rgba(0, 0, 0, 0.15);\n",
              "      filter: drop-shadow(0px 1px 2px rgba(0, 0, 0, 0.3));\n",
              "      fill: #FFFFFF;\n",
              "    }\n",
              "  </style>\n",
              "\n",
              "      <script>\n",
              "        const buttonEl =\n",
              "          document.querySelector('#df-6fc896e6-23e3-4d95-bb9d-17456274a402 button.colab-df-convert');\n",
              "        buttonEl.style.display =\n",
              "          google.colab.kernel.accessAllowed ? 'block' : 'none';\n",
              "\n",
              "        async function convertToInteractive(key) {\n",
              "          const element = document.querySelector('#df-6fc896e6-23e3-4d95-bb9d-17456274a402');\n",
              "          const dataTable =\n",
              "            await google.colab.kernel.invokeFunction('convertToInteractive',\n",
              "                                                     [key], {});\n",
              "          if (!dataTable) return;\n",
              "\n",
              "          const docLinkHtml = 'Like what you see? Visit the ' +\n",
              "            '<a target=\"_blank\" href=https://colab.research.google.com/notebooks/data_table.ipynb>data table notebook</a>'\n",
              "            + ' to learn more about interactive tables.';\n",
              "          element.innerHTML = '';\n",
              "          dataTable['output_type'] = 'display_data';\n",
              "          await google.colab.output.renderOutput(dataTable, element);\n",
              "          const docLink = document.createElement('div');\n",
              "          docLink.innerHTML = docLinkHtml;\n",
              "          element.appendChild(docLink);\n",
              "        }\n",
              "      </script>\n",
              "    </div>\n",
              "  </div>\n",
              "  "
            ]
          },
          "metadata": {},
          "execution_count": 20
        }
      ]
    },
    {
      "cell_type": "code",
      "source": [
        "X = df.drop(\"y\", axis=1)\n",
        "y = df[\"y\"]\n",
        "\n",
        "X_train, X_test, y_train, y_test = train_test_split(X, y, test_size=0.2, random_state=42)\n",
        "scaler = StandardScaler()\n",
        "X_train = scaler.fit_transform(X_train)\n",
        "X_test = scaler.transform(X_test)"
      ],
      "metadata": {
        "id": "GvC9Mk9nmca8"
      },
      "execution_count": 21,
      "outputs": []
    },
    {
      "cell_type": "code",
      "source": [
        "X_train.shape\n"
      ],
      "metadata": {
        "colab": {
          "base_uri": "https://localhost:8080/"
        },
        "id": "yH5MTbNKmgOp",
        "outputId": "aa64919c-9f4c-4010-a4ed-03a334c40492"
      },
      "execution_count": 22,
      "outputs": [
        {
          "output_type": "execute_result",
          "data": {
            "text/plain": [
              "(455, 30)"
            ]
          },
          "metadata": {},
          "execution_count": 22
        }
      ]
    },
    {
      "cell_type": "code",
      "source": [
        "X_train[:5]\n"
      ],
      "metadata": {
        "colab": {
          "base_uri": "https://localhost:8080/"
        },
        "id": "0nCdKX8RmlRB",
        "outputId": "3a81be89-36fb-4c2d-d95e-8bd3929e4ecb"
      },
      "execution_count": 23,
      "outputs": [
        {
          "output_type": "execute_result",
          "data": {
            "text/plain": [
              "array([[-1.66281784,  0.34936257, -1.58598247, -1.26260845, -0.19248395,\n",
              "         0.48327515,  0.55256596, -0.71533989,  1.44628966,  2.71459624,\n",
              "        -0.75180669,  1.36799765, -0.79712766, -0.63733857,  1.84516862,\n",
              "         1.64673238,  1.48893413, -0.26474706,  0.27957279,  3.06083038,\n",
              "        -1.47183426,  0.67952891, -1.459128  , -1.09402837,  1.33104727,\n",
              "         1.10506637,  1.28466984, -0.55410532,  0.63011867,  3.48450579],\n",
              "       [-0.30948426, -1.15645148, -0.3132375 , -0.38531096, -0.1519892 ,\n",
              "        -0.10615264, -0.65952482, -0.73364668, -0.58756253,  1.29924774,\n",
              "        -0.79481705, -1.04827471, -0.95634389, -0.54786643, -0.62462384,\n",
              "        -0.14849558, -0.02564888, -0.76596531, -0.51023721,  0.72450811,\n",
              "        -0.51583223, -1.39670653, -0.5823274 , -0.52337823, -0.82131287,\n",
              "        -0.37857096, -0.62136459, -0.86793434, -0.75265805,  0.89642415],\n",
              "       [-0.61867177, -1.05870157, -0.55985508, -0.61565807,  1.31008442,\n",
              "         0.46607952, -0.66310786, -0.49696605,  0.63631695,  2.13074769,\n",
              "        -0.03129432, -1.02522426,  0.08448697, -0.32162973,  1.06982052,\n",
              "         1.25721811, -0.13140856, -0.11291503,  1.24384829,  2.15497225,\n",
              "        -0.63357664, -1.46153824, -0.61584333, -0.63953755,  0.42246902,\n",
              "        -0.03418919, -0.86767991, -0.83823736, -0.29432195,  1.04291933],\n",
              "       [-1.14911272,  0.48435053, -1.17619247, -0.97036437, -1.10752323,\n",
              "        -1.26265391, -1.10625295, -1.14740627, -0.66606209,  0.19380938,\n",
              "        -0.78166512,  0.23193986, -0.82638259, -0.60772756, -0.45548817,\n",
              "        -1.14986462, -0.97409121, -1.4195332 , -0.73892846, -0.53992687,\n",
              "        -1.05497771,  0.55310708, -1.10481677, -0.87273088, -0.89188205,\n",
              "        -1.18272145, -1.26454818, -1.37386569, -0.88161364, -0.20446006],\n",
              "       [-0.75199115, -0.43961883, -0.74368225, -0.71401488,  0.88382389,\n",
              "        -0.19767157, -0.87796221, -0.79562824, -0.61253966,  0.36398324,\n",
              "        -0.42905128,  1.26921001, -0.45301036, -0.39938528, -0.13299825,\n",
              "        -0.47741874, -0.66379754, -0.38552254,  0.24774463, -0.11140255,\n",
              "        -0.71000723,  0.19977428, -0.7235731 , -0.65108351,  0.3739527 ,\n",
              "        -0.49484746, -0.95069011, -0.78255552, -0.51649843, -0.18546994]])"
            ]
          },
          "metadata": {},
          "execution_count": 23
        }
      ]
    },
    {
      "cell_type": "markdown",
      "source": [
        "##Logistic Regression"
      ],
      "metadata": {
        "id": "rs9zLb1FmuVf"
      }
    },
    {
      "cell_type": "code",
      "source": [
        "reg = LogisticRegression().fit(X_train, y_train)\n",
        "y_pred = reg.predict(X_test)"
      ],
      "metadata": {
        "id": "S33hrOFimoT6"
      },
      "execution_count": 24,
      "outputs": []
    },
    {
      "cell_type": "code",
      "source": [
        "def calculate_results(y_true, y_pred):\n",
        "  model_accuracy = accuracy_score(y_true, y_pred) * 100\n",
        "  model_precision, model_recall, model_f1, _ = precision_recall_fscore_support(y_true, y_pred, average=\"weighted\")\n",
        "  model_results = {\"accuracy\": model_accuracy,\n",
        "                  \"precision\": model_precision,\n",
        "                  \"recall\": model_recall,\n",
        "                  \"f1\": model_f1}\n",
        "  return model_results"
      ],
      "metadata": {
        "id": "6NF_JvoEmwnb"
      },
      "execution_count": 25,
      "outputs": []
    },
    {
      "cell_type": "code",
      "source": [
        "lr_results = calculate_results(y_true=y_test,\n",
        "                                     y_pred=y_pred)\n",
        "lr_results"
      ],
      "metadata": {
        "colab": {
          "base_uri": "https://localhost:8080/"
        },
        "id": "WXzQ0xBMmzTg",
        "outputId": "e66f101f-c0d4-4925-9760-2e19493b0a4b"
      },
      "execution_count": 26,
      "outputs": [
        {
          "output_type": "execute_result",
          "data": {
            "text/plain": [
              "{'accuracy': 96.49122807017544,\n",
              " 'precision': 0.9649122807017544,\n",
              " 'recall': 0.9649122807017544,\n",
              " 'f1': 0.9649122807017544}"
            ]
          },
          "metadata": {},
          "execution_count": 26
        }
      ]
    },
    {
      "cell_type": "markdown",
      "source": [
        "##DNN"
      ],
      "metadata": {
        "id": "ZVIIEPxLm4Wu"
      }
    },
    {
      "cell_type": "code",
      "source": [
        "early_stopping = EarlyStopping(\n",
        "    min_delta=0.001, \n",
        "    patience=10, \n",
        "    restore_best_weights=True,\n",
        ")"
      ],
      "metadata": {
        "id": "7WuUsaEdm1rE"
      },
      "execution_count": 27,
      "outputs": []
    },
    {
      "cell_type": "code",
      "source": [
        "tf.random.set_seed(42)\n",
        "\n",
        "model = tf.keras.Sequential([\n",
        "  tf.keras.layers.Dense(256, activation=\"relu\"),\n",
        "  tf.keras.layers.Dropout(0.50),\n",
        "  tf.keras.layers.Dense(128, activation=\"relu\"),\n",
        "  tf.keras.layers.Dropout(0.50),\n",
        "  tf.keras.layers.Dense(56, activation=\"relu\"),\n",
        "  tf.keras.layers.Dense(1, activation=\"sigmoid\")\n",
        "])\n",
        "\n",
        "model.compile(loss=tf.keras.losses.BinaryCrossentropy(), \n",
        "                 optimizer=tf.keras.optimizers.Adam(),\n",
        "                 metrics=[\"accuracy\"])\n",
        "\n",
        "model_history = model.fit(X_train,\n",
        "                                y_train,\n",
        "                                epochs=100,\n",
        "                                validation_data=(X_test, y_test),\n",
        "                                callbacks=[early_stopping])"
      ],
      "metadata": {
        "colab": {
          "base_uri": "https://localhost:8080/"
        },
        "id": "g6h_6JUmm5UB",
        "outputId": "e6812484-f933-4046-8855-3375d345069f"
      },
      "execution_count": 28,
      "outputs": [
        {
          "output_type": "stream",
          "name": "stdout",
          "text": [
            "Epoch 1/100\n",
            "15/15 [==============================] - 4s 114ms/step - loss: 0.4620 - accuracy: 0.8176 - val_loss: 0.1985 - val_accuracy: 0.9298\n",
            "Epoch 2/100\n",
            "15/15 [==============================] - 0s 24ms/step - loss: 0.1860 - accuracy: 0.9560 - val_loss: 0.1350 - val_accuracy: 0.9211\n",
            "Epoch 3/100\n",
            "15/15 [==============================] - 0s 17ms/step - loss: 0.1053 - accuracy: 0.9670 - val_loss: 0.1166 - val_accuracy: 0.9474\n",
            "Epoch 4/100\n",
            "15/15 [==============================] - 0s 17ms/step - loss: 0.1091 - accuracy: 0.9670 - val_loss: 0.1006 - val_accuracy: 0.9474\n",
            "Epoch 5/100\n",
            "15/15 [==============================] - 0s 15ms/step - loss: 0.0788 - accuracy: 0.9736 - val_loss: 0.1164 - val_accuracy: 0.9474\n",
            "Epoch 6/100\n",
            "15/15 [==============================] - 0s 21ms/step - loss: 0.0691 - accuracy: 0.9780 - val_loss: 0.1259 - val_accuracy: 0.9474\n",
            "Epoch 7/100\n",
            "15/15 [==============================] - 0s 18ms/step - loss: 0.0841 - accuracy: 0.9802 - val_loss: 0.1104 - val_accuracy: 0.9561\n",
            "Epoch 8/100\n",
            "15/15 [==============================] - 0s 19ms/step - loss: 0.0533 - accuracy: 0.9824 - val_loss: 0.1125 - val_accuracy: 0.9649\n",
            "Epoch 9/100\n",
            "15/15 [==============================] - 0s 19ms/step - loss: 0.0583 - accuracy: 0.9868 - val_loss: 0.1293 - val_accuracy: 0.9561\n",
            "Epoch 10/100\n",
            "15/15 [==============================] - 0s 22ms/step - loss: 0.0421 - accuracy: 0.9890 - val_loss: 0.1185 - val_accuracy: 0.9649\n",
            "Epoch 11/100\n",
            "15/15 [==============================] - 0s 24ms/step - loss: 0.0526 - accuracy: 0.9802 - val_loss: 0.1281 - val_accuracy: 0.9649\n",
            "Epoch 12/100\n",
            "15/15 [==============================] - 0s 22ms/step - loss: 0.0377 - accuracy: 0.9912 - val_loss: 0.1390 - val_accuracy: 0.9561\n",
            "Epoch 13/100\n",
            "15/15 [==============================] - 0s 17ms/step - loss: 0.0639 - accuracy: 0.9890 - val_loss: 0.0912 - val_accuracy: 0.9649\n",
            "Epoch 14/100\n",
            "15/15 [==============================] - 0s 22ms/step - loss: 0.0504 - accuracy: 0.9846 - val_loss: 0.0901 - val_accuracy: 0.9649\n",
            "Epoch 15/100\n",
            "15/15 [==============================] - 0s 10ms/step - loss: 0.0426 - accuracy: 0.9868 - val_loss: 0.1071 - val_accuracy: 0.9649\n",
            "Epoch 16/100\n",
            "15/15 [==============================] - 0s 12ms/step - loss: 0.0382 - accuracy: 0.9890 - val_loss: 0.1124 - val_accuracy: 0.9649\n",
            "Epoch 17/100\n",
            "15/15 [==============================] - 0s 11ms/step - loss: 0.0369 - accuracy: 0.9846 - val_loss: 0.1090 - val_accuracy: 0.9649\n",
            "Epoch 18/100\n",
            "15/15 [==============================] - 0s 14ms/step - loss: 0.0390 - accuracy: 0.9868 - val_loss: 0.0927 - val_accuracy: 0.9649\n",
            "Epoch 19/100\n",
            "15/15 [==============================] - 0s 13ms/step - loss: 0.0361 - accuracy: 0.9868 - val_loss: 0.0975 - val_accuracy: 0.9649\n",
            "Epoch 20/100\n",
            "15/15 [==============================] - 0s 10ms/step - loss: 0.0278 - accuracy: 0.9912 - val_loss: 0.0952 - val_accuracy: 0.9649\n",
            "Epoch 21/100\n",
            "15/15 [==============================] - 0s 11ms/step - loss: 0.0366 - accuracy: 0.9868 - val_loss: 0.1026 - val_accuracy: 0.9649\n",
            "Epoch 22/100\n",
            "15/15 [==============================] - 0s 19ms/step - loss: 0.0369 - accuracy: 0.9846 - val_loss: 0.1019 - val_accuracy: 0.9649\n",
            "Epoch 23/100\n",
            "15/15 [==============================] - 0s 13ms/step - loss: 0.0325 - accuracy: 0.9912 - val_loss: 0.1119 - val_accuracy: 0.9649\n",
            "Epoch 24/100\n",
            "15/15 [==============================] - 0s 19ms/step - loss: 0.0310 - accuracy: 0.9846 - val_loss: 0.1163 - val_accuracy: 0.9649\n"
          ]
        }
      ]
    },
    {
      "cell_type": "code",
      "source": [
        "pd.DataFrame(model_history.history).plot()"
      ],
      "metadata": {
        "colab": {
          "base_uri": "https://localhost:8080/",
          "height": 448
        },
        "id": "Iv1mUmTIm7Mn",
        "outputId": "57c87bd5-44a1-41a7-f8b2-53340b599112"
      },
      "execution_count": 29,
      "outputs": [
        {
          "output_type": "execute_result",
          "data": {
            "text/plain": [
              "<Axes: >"
            ]
          },
          "metadata": {},
          "execution_count": 29
        },
        {
          "output_type": "display_data",
          "data": {
            "text/plain": [
              "<Figure size 640x480 with 1 Axes>"
            ],
            "image/png": "[encoded data removed]"
          },
          "metadata": {}
        }
      ]
    },
    {
      "cell_type": "code",
      "source": [
        "model.evaluate(X_test,y_test)"
      ],
      "metadata": {
        "colab": {
          "base_uri": "https://localhost:8080/"
        },
        "id": "LFWIryrVnABb",
        "outputId": "8ab7c3d2-5440-49b4-a2ec-6343aa06a47a"
      },
      "execution_count": 30,
      "outputs": [
        {
          "output_type": "stream",
          "name": "stdout",
          "text": [
            "4/4 [==============================] - 0s 5ms/step - loss: 0.0901 - accuracy: 0.9649\n"
          ]
        },
        {
          "output_type": "execute_result",
          "data": {
            "text/plain": [
              "[0.09005837142467499, 0.9649122953414917]"
            ]
          },
          "metadata": {},
          "execution_count": 30
        }
      ]
    },
    {
      "cell_type": "code",
      "source": [
        "y_pred_nn = model.predict(X_test)"
      ],
      "metadata": {
        "colab": {
          "base_uri": "https://localhost:8080/"
        },
        "id": "8RA_5b_knCHc",
        "outputId": "1201c75f-522f-44c6-c0c5-622e31704106"
      },
      "execution_count": 31,
      "outputs": [
        {
          "output_type": "stream",
          "name": "stdout",
          "text": [
            "4/4 [==============================] - 0s 4ms/step\n"
          ]
        }
      ]
    },
    {
      "cell_type": "code",
      "source": [
        "y_pred_nn = tf.round(y_pred_nn)"
      ],
      "metadata": {
        "id": "XtuWsFuLnEZf"
      },
      "execution_count": 32,
      "outputs": []
    },
    {
      "cell_type": "code",
      "source": [
        "y_pred_nn[:5]"
      ],
      "metadata": {
        "colab": {
          "base_uri": "https://localhost:8080/"
        },
        "id": "EZ8wpWY2nHIW",
        "outputId": "6ea8cc7d-02ce-4864-b88d-841ff3e8f99c"
      },
      "execution_count": 33,
      "outputs": [
        {
          "output_type": "execute_result",
          "data": {
            "text/plain": [
              "<tf.Tensor: shape=(5, 1), dtype=float32, numpy=\n",
              "array([[0.],\n",
              "       [0.],\n",
              "       [0.],\n",
              "       [1.],\n",
              "       [1.]], dtype=float32)>"
            ]
          },
          "metadata": {},
          "execution_count": 33
        }
      ]
    },
    {
      "cell_type": "code",
      "source": [
        "dnn_results = calculate_results(y_true=y_test,\n",
        "                                     y_pred=y_pred_nn)\n",
        "dnn_results"
      ],
      "metadata": {
        "colab": {
          "base_uri": "https://localhost:8080/"
        },
        "id": "cLzWPxnrnKL2",
        "outputId": "64a8759e-5321-480a-c5d4-7353d24e9d63"
      },
      "execution_count": 34,
      "outputs": [
        {
          "output_type": "execute_result",
          "data": {
            "text/plain": [
              "{'accuracy': 96.49122807017544,\n",
              " 'precision': 0.9649122807017544,\n",
              " 'recall': 0.9649122807017544,\n",
              " 'f1': 0.9649122807017544}"
            ]
          },
          "metadata": {},
          "execution_count": 34
        }
      ]
    },
    {
      "cell_type": "markdown",
      "source": [
        "##XGB\n"
      ],
      "metadata": {
        "id": "uOq7kMyjnOxH"
      }
    },
    {
      "cell_type": "code",
      "source": [
        "xgb = XGBClassifier().fit(X_train, y_train)"
      ],
      "metadata": {
        "id": "o8L6aJUMnMQr"
      },
      "execution_count": 35,
      "outputs": []
    },
    {
      "cell_type": "code",
      "source": [
        "y_pred_xgb = xgb.predict(X_test)"
      ],
      "metadata": {
        "id": "PBA6WbUSnRPS"
      },
      "execution_count": 36,
      "outputs": []
    },
    {
      "cell_type": "code",
      "source": [
        "y_pred_xgb[:5]"
      ],
      "metadata": {
        "colab": {
          "base_uri": "https://localhost:8080/"
        },
        "id": "mpxdyD5AnTBV",
        "outputId": "5bb5acc6-6a19-4163-ddce-d7ea8ea5a03a"
      },
      "execution_count": 37,
      "outputs": [
        {
          "output_type": "execute_result",
          "data": {
            "text/plain": [
              "array([0, 0, 0, 1, 1])"
            ]
          },
          "metadata": {},
          "execution_count": 37
        }
      ]
    },
    {
      "cell_type": "code",
      "source": [
        "xgb_results = calculate_results(y_true=y_test,\n",
        "                                     y_pred=y_pred_xgb)\n",
        "xgb_results"
      ],
      "metadata": {
        "colab": {
          "base_uri": "https://localhost:8080/"
        },
        "id": "lbv241JnnUmz",
        "outputId": "ea262c61-c875-4445-a356-148d2cb31c6d"
      },
      "execution_count": 38,
      "outputs": [
        {
          "output_type": "execute_result",
          "data": {
            "text/plain": [
              "{'accuracy': 94.73684210526315,\n",
              " 'precision': 0.9488079172289698,\n",
              " 'recall': 0.9473684210526315,\n",
              " 'f1': 0.9468057045386604}"
            ]
          },
          "metadata": {},
          "execution_count": 38
        }
      ]
    },
    {
      "cell_type": "markdown",
      "source": [
        "##Model Comparison"
      ],
      "metadata": {
        "id": "JWBZzBD0nYmz"
      }
    },
    {
      "cell_type": "code",
      "source": [
        "all_model_results = pd.DataFrame({\"logistic_regression\": lr_results,\n",
        "                                  \"DNN\": dnn_results,\n",
        "                                  \"XGBClassifier\": xgb_results})\n",
        "all_model_results = all_model_results.transpose()\n",
        "all_model_results"
      ],
      "metadata": {
        "colab": {
          "base_uri": "https://localhost:8080/",
          "height": 143
        },
        "id": "4YoqU4MrnWH5",
        "outputId": "5700e616-bd52-4d40-f91f-1268c6f69924"
      },
      "execution_count": 39,
      "outputs": [
        {
          "output_type": "execute_result",
          "data": {
            "text/plain": [
              "                      accuracy  precision    recall        f1\n",
              "logistic_regression  96.491228   0.964912  0.964912  0.964912\n",
              "DNN                  96.491228   0.964912  0.964912  0.964912\n",
              "XGBClassifier        94.736842   0.948808  0.947368  0.946806"
            ],
            "text/html": [
              "\n",
              "  <div id=\"df-4cbe2807-3cc3-41bd-a3c6-b02b0df5728d\">\n",
              "    <div class=\"colab-df-container\">\n",
              "      <div>\n",
              "<style scoped>\n",
              "    .dataframe tbody tr th:only-of-type {\n",
              "        vertical-align: middle;\n",
              "    }\n",
              "\n",
              "    .dataframe tbody tr th {\n",
              "        vertical-align: top;\n",
              "    }\n",
              "\n",
              "    .dataframe thead th {\n",
              "        text-align: right;\n",
              "    }\n",
              "</style>\n",
              "<table border=\"1\" class=\"dataframe\">\n",
              "  <thead>\n",
              "    <tr style=\"text-align: right;\">\n",
              "      <th></th>\n",
              "      <th>accuracy</th>\n",
              "      <th>precision</th>\n",
              "      <th>recall</th>\n",
              "      <th>f1</th>\n",
              "    </tr>\n",
              "  </thead>\n",
              "  <tbody>\n",
              "    <tr>\n",
              "      <th>logistic_regression</th>\n",
              "      <td>96.491228</td>\n",
              "      <td>0.964912</td>\n",
              "      <td>0.964912</td>\n",
              "      <td>0.964912</td>\n",
              "    </tr>\n",
              "    <tr>\n",
              "      <th>DNN</th>\n",
              "      <td>96.491228</td>\n",
              "      <td>0.964912</td>\n",
              "      <td>0.964912</td>\n",
              "      <td>0.964912</td>\n",
              "    </tr>\n",
              "    <tr>\n",
              "      <th>XGBClassifier</th>\n",
              "      <td>94.736842</td>\n",
              "      <td>0.948808</td>\n",
              "      <td>0.947368</td>\n",
              "      <td>0.946806</td>\n",
              "    </tr>\n",
              "  </tbody>\n",
              "</table>\n",
              "</div>\n",
              "      <button class=\"colab-df-convert\" onclick=\"convertToInteractive('df-4cbe2807-3cc3-41bd-a3c6-b02b0df5728d')\"\n",
              "              title=\"Convert this dataframe to an interactive table.\"\n",
              "              style=\"display:none;\">\n",
              "        \n",
              "  <svg xmlns=\"http://www.w3.org/2000/svg\" height=\"24px\"viewBox=\"0 0 24 24\"\n",
              "       width=\"24px\">\n",
              "    <path d=\"M0 0h24v24H0V0z\" fill=\"none\"/>\n",
              "    <path d=\"M18.56 5.44l.94 2.06.94-2.06 2.06-.94-2.06-.94-.94-2.06-.94 2.06-2.06.94zm-11 1L8.5 8.5l.94-2.06 2.06-.94-2.06-.94L8.5 2.5l-.94 2.06-2.06.94zm10 10l.94 2.06.94-2.06 2.06-.94-2.06-.94-.94-2.06-.94 2.06-2.06.94z\"/><path d=\"M17.41 7.96l-1.37-1.37c-.4-.4-.92-.59-1.43-.59-.52 0-1.04.2-1.43.59L10.3 9.45l-7.72 7.72c-.78.78-.78 2.05 0 2.83L4 21.41c.39.39.9.59 1.41.59.51 0 1.02-.2 1.41-.59l7.78-7.78 2.81-2.81c.8-.78.8-2.07 0-2.86zM5.41 20L4 18.59l7.72-7.72 1.47 1.35L5.41 20z\"/>\n",
              "  </svg>\n",
              "      </button>\n",
              "      \n",
              "  <style>\n",
              "    .colab-df-container {\n",
              "      display:flex;\n",
              "      flex-wrap:wrap;\n",
              "      gap: 12px;\n",
              "    }\n",
              "\n",
              "    .colab-df-convert {\n",
              "      background-color: #E8F0FE;\n",
              "      border: none;\n",
              "      border-radius: 50%;\n",
              "      cursor: pointer;\n",
              "      display: none;\n",
              "      fill: #1967D2;\n",
              "      height: 32px;\n",
              "      padding: 0 0 0 0;\n",
              "      width: 32px;\n",
              "    }\n",
              "\n",
              "    .colab-df-convert:hover {\n",
              "      background-color: #E2EBFA;\n",
              "      box-shadow: 0px 1px 2px rgba(60, 64, 67, 0.3), 0px 1px 3px 1px rgba(60, 64, 67, 0.15);\n",
              "      fill: #174EA6;\n",
              "    }\n",
              "\n",
              "    [theme=dark] .colab-df-convert {\n",
              "      background-color: #3B4455;\n",
              "      fill: #D2E3FC;\n",
              "    }\n",
              "\n",
              "    [theme=dark] .colab-df-convert:hover {\n",
              "      background-color: #434B5C;\n",
              "      box-shadow: 0px 1px 3px 1px rgba(0, 0, 0, 0.15);\n",
              "      filter: drop-shadow(0px 1px 2px rgba(0, 0, 0, 0.3));\n",
              "      fill: #FFFFFF;\n",
              "    }\n",
              "  </style>\n",
              "\n",
              "      <script>\n",
              "        const buttonEl =\n",
              "          document.querySelector('#df-4cbe2807-3cc3-41bd-a3c6-b02b0df5728d button.colab-df-convert');\n",
              "        buttonEl.style.display =\n",
              "          google.colab.kernel.accessAllowed ? 'block' : 'none';\n",
              "\n",
              "        async function convertToInteractive(key) {\n",
              "          const element = document.querySelector('#df-4cbe2807-3cc3-41bd-a3c6-b02b0df5728d');\n",
              "          const dataTable =\n",
              "            await google.colab.kernel.invokeFunction('convertToInteractive',\n",
              "                                                     [key], {});\n",
              "          if (!dataTable) return;\n",
              "\n",
              "          const docLinkHtml = 'Like what you see? Visit the ' +\n",
              "            '<a target=\"_blank\" href=https://colab.research.google.com/notebooks/data_table.ipynb>data table notebook</a>'\n",
              "            + ' to learn more about interactive tables.';\n",
              "          element.innerHTML = '';\n",
              "          dataTable['output_type'] = 'display_data';\n",
              "          await google.colab.output.renderOutput(dataTable, element);\n",
              "          const docLink = document.createElement('div');\n",
              "          docLink.innerHTML = docLinkHtml;\n",
              "          element.appendChild(docLink);\n",
              "        }\n",
              "      </script>\n",
              "    </div>\n",
              "  </div>\n",
              "  "
            ]
          },
          "metadata": {},
          "execution_count": 39
        }
      ]
    },
    {
      "cell_type": "code",
      "source": [
        "all_model_results[\"accuracy\"] = all_model_results[\"accuracy\"]/100"
      ],
      "metadata": {
        "id": "bXOFKaxMnb8z"
      },
      "execution_count": 40,
      "outputs": []
    },
    {
      "cell_type": "code",
      "source": [
        "all_model_results.plot(kind=\"bar\", figsize=(10, 7)).legend(bbox_to_anchor=(1.0, 1.0))"
      ],
      "metadata": {
        "colab": {
          "base_uri": "https://localhost:8080/",
          "height": 732
        },
        "id": "g_hW4oZgndwP",
        "outputId": "2e8b1907-3a09-4e55-dde4-24d8d58ff703"
      },
      "execution_count": 41,
      "outputs": [
        {
          "output_type": "execute_result",
          "data": {
            "text/plain": [
              "<matplotlib.legend.Legend at 0x7f9836356ce0>"
            ]
          },
          "metadata": {},
          "execution_count": 41
        },
        {
          "output_type": "display_data",
          "data": {
            "text/plain": [
              "<Figure size 1000x700 with 1 Axes>"
            ],
            "image/png": "[encoded data removed]"
          },
          "metadata": {}
        }
      ]
    },
    {
      "cell_type": "code",
      "source": [],
      "metadata": {
        "id": "G4m2-z08nfv1"
      },
      "execution_count": null,
      "outputs": []
    }
  ]
}